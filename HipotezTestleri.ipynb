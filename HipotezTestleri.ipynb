{
 "cells": [
  {
   "cell_type": "code",
   "execution_count": 1,
   "id": "3b737261-0967-4dac-a800-bc85a5612c70",
   "metadata": {
    "tags": []
   },
   "outputs": [],
   "source": [
    "import pandas as pd\n",
    "import numpy as np\n",
    "import seaborn as sns\n",
    "import matplotlib.pyplot as plt\n",
    "file_path = 'x'\n",
    "df = pd.read_csv(file_path)\n",
    "import warnings\n",
    "\n",
    "warnings.filterwarnings('ignore')\n",
    "sns.set_style()"
   ]
  },
  {
   "cell_type": "code",
   "execution_count": 2,
   "id": "07b7b97e-7100-42f7-ad66-2e68e4ae3632",
   "metadata": {
    "tags": []
   },
   "outputs": [],
   "source": [
    "df['transmission'] = df['transmission'].str.replace('Sedan', 'sedan')"
   ]
  },
  {
   "cell_type": "code",
   "execution_count": 3,
   "id": "6b10523b-80b9-4182-b203-726088718b3b",
   "metadata": {
    "tags": []
   },
   "outputs": [],
   "source": [
    "df['transmission'].fillna('automatic', inplace=True)"
   ]
  },
  {
   "cell_type": "code",
   "execution_count": 4,
   "id": "9f8443e0-8a30-4564-9f84-a4be67270337",
   "metadata": {
    "tags": []
   },
   "outputs": [],
   "source": [
    "df=df.dropna()"
   ]
  },
  {
   "cell_type": "code",
   "execution_count": 5,
   "id": "e033f01f-6366-43f9-8515-a4f0327886dd",
   "metadata": {
    "tags": []
   },
   "outputs": [
    {
     "data": {
      "text/plain": [
       "year            0\n",
       "make            0\n",
       "model           0\n",
       "trim            0\n",
       "body            0\n",
       "transmission    0\n",
       "vin             0\n",
       "state           0\n",
       "condition       0\n",
       "odometer        0\n",
       "color           0\n",
       "interior        0\n",
       "seller          0\n",
       "mmr             0\n",
       "sellingprice    0\n",
       "saledate        0\n",
       "dtype: int64"
      ]
     },
     "execution_count": 5,
     "metadata": {},
     "output_type": "execute_result"
    }
   ],
   "source": [
    "df.isnull().sum()"
   ]
  },
  {
   "cell_type": "code",
   "execution_count": 6,
   "id": "089dbc4f-f179-4d2b-a859-414636d442fe",
   "metadata": {
    "tags": []
   },
   "outputs": [],
   "source": [
    "# condition veri setinde nümerik bir değer gibi gözükse de aslında 1 den 50ye kadar aracın -\n",
    "#fiziksel durumunu gösteren kategorik bir değişken öncelikle bunu düzeltmemiz gerekiyor\n",
    "# DataFrame oluşturma\n",
    "df_condition = pd.DataFrame(df['condition'])\n",
    "\n",
    "# Kategorilere ayırma\n",
    "def categorize_condition(value):\n",
    "    if 1 <= value <= 10:\n",
    "        return 'Çok Kötü'\n",
    "    elif 11 <= value <= 20:\n",
    "        return 'Kötü'\n",
    "    elif 21 <= value <= 30:\n",
    "        return 'Orta'\n",
    "    elif 31 <= value <= 40:\n",
    "        return 'İyi'\n",
    "    elif 41 <= value <= 49:\n",
    "        return 'Mükemmel'\n",
    "\n",
    "# Yeni kategori sütunu ekleyelim\n",
    "df_condition['category'] = df_condition['condition'].apply(categorize_condition)\n",
    "\n",
    "df_condition.drop('condition',axis=1,inplace=True)\n",
    "df.drop('condition',axis=1,inplace=True)\n",
    "df['category']=df_condition['category']\n",
    "df.rename(columns={'category': 'condition_categoric'}, inplace=True)"
   ]
  },
  {
   "cell_type": "code",
   "execution_count": null,
   "id": "a8039c50-07ef-4fc9-a8a8-7c2d6cb35ba3",
   "metadata": {},
   "outputs": [],
   "source": []
  },
  {
   "cell_type": "code",
   "execution_count": 7,
   "id": "91dba9e7-6cb4-4fe3-924e-db2e1cdabe16",
   "metadata": {
    "tags": []
   },
   "outputs": [
    {
     "name": "stdout",
     "output_type": "stream",
     "text": [
      "<class 'pandas.core.frame.DataFrame'>\n",
      "Index: 533648 entries, 0 to 558836\n",
      "Data columns (total 16 columns):\n",
      " #   Column               Non-Null Count   Dtype  \n",
      "---  ------               --------------   -----  \n",
      " 0   year                 533648 non-null  int64  \n",
      " 1   make                 533648 non-null  object \n",
      " 2   model                533648 non-null  object \n",
      " 3   trim                 533648 non-null  object \n",
      " 4   body                 533648 non-null  object \n",
      " 5   transmission         533648 non-null  object \n",
      " 6   vin                  533648 non-null  object \n",
      " 7   state                533648 non-null  object \n",
      " 8   odometer             533648 non-null  float64\n",
      " 9   color                533648 non-null  object \n",
      " 10  interior             533648 non-null  object \n",
      " 11  seller               533648 non-null  object \n",
      " 12  mmr                  533648 non-null  float64\n",
      " 13  sellingprice         533648 non-null  float64\n",
      " 14  saledate             533648 non-null  object \n",
      " 15  condition_categoric  533648 non-null  object \n",
      "dtypes: float64(3), int64(1), object(12)\n",
      "memory usage: 69.2+ MB\n"
     ]
    }
   ],
   "source": [
    "df.info()"
   ]
  },
  {
   "cell_type": "markdown",
   "id": "64ee7096-2298-41b3-aa58-7246d4f659fe",
   "metadata": {
    "tags": []
   },
   "source": [
    "### Korelasyonlar "
   ]
  },
  {
   "cell_type": "code",
   "execution_count": 9,
   "id": "d714013f-d0e1-466f-9dc8-e4b22157b64d",
   "metadata": {
    "tags": []
   },
   "outputs": [
    {
     "name": "stdout",
     "output_type": "stream",
     "text": [
      "                   mmr  odometer  sellingprice\n",
      "mmr           1.000000 -0.581737      0.983677\n",
      "odometer     -0.581737  1.000000     -0.576545\n",
      "sellingprice  0.983677 -0.576545      1.000000\n"
     ]
    }
   ],
   "source": [
    "# Sayısal sütunları seçme\n",
    "numeric_columns = df.select_dtypes(include=['float64', 'int64']).columns.difference(['year'])\n",
    "\n",
    "# Korelasyon matrisini hesaplama\n",
    "correlation_matrix = df[numeric_columns].corr()\n",
    "\n",
    "# Korelasyon matrisini yazdırma\n",
    "print(correlation_matrix)"
   ]
  },
  {
   "cell_type": "code",
   "execution_count": 10,
   "id": "385e9357-a567-4282-9aef-e780a26debb5",
   "metadata": {
    "tags": []
   },
   "outputs": [
    {
     "data": {
      "text/html": [
       "<style type=\"text/css\">\n",
       "#T_6be59_row0_col0 {\n",
       "  background-color: #b70d28;\n",
       "  color: #f1f1f1;\n",
       "}\n",
       "#T_6be59_row0_col1 {\n",
       "  background-color: #3b4cc0;\n",
       "  color: #f1f1f1;\n",
       "}\n",
       "#T_6be59_row0_col2 {\n",
       "  background-color: #b40426;\n",
       "  color: #f1f1f1;\n",
       "}\n",
       "</style>\n",
       "<table id=\"T_6be59\">\n",
       "  <thead>\n",
       "    <tr>\n",
       "      <th class=\"blank level0\" >&nbsp;</th>\n",
       "      <th id=\"T_6be59_level0_col0\" class=\"col_heading level0 col0\" >mmr</th>\n",
       "      <th id=\"T_6be59_level0_col1\" class=\"col_heading level0 col1\" >odometer</th>\n",
       "      <th id=\"T_6be59_level0_col2\" class=\"col_heading level0 col2\" >sellingprice</th>\n",
       "    </tr>\n",
       "  </thead>\n",
       "  <tbody>\n",
       "    <tr>\n",
       "      <th id=\"T_6be59_level0_row0\" class=\"row_heading level0 row0\" >sellingprice</th>\n",
       "      <td id=\"T_6be59_row0_col0\" class=\"data row0 col0\" >0.983677</td>\n",
       "      <td id=\"T_6be59_row0_col1\" class=\"data row0 col1\" >-0.576545</td>\n",
       "      <td id=\"T_6be59_row0_col2\" class=\"data row0 col2\" >1.000000</td>\n",
       "    </tr>\n",
       "  </tbody>\n",
       "</table>\n"
      ],
      "text/plain": [
       "<pandas.io.formats.style.Styler at 0x27db5942e90>"
      ]
     },
     "execution_count": 10,
     "metadata": {},
     "output_type": "execute_result"
    }
   ],
   "source": [
    "numeric_columns = df.select_dtypes(include=['float64', 'int64']).columns.difference(['year'])\n",
    "\n",
    "# 'numeric_columns' içinde belirtilen sütunları seçerek yeni bir DataFrame oluşturun\n",
    "numeric_df = df[numeric_columns]\n",
    "\n",
    "# Korelasyon matrisini hesapla\n",
    "correlation_matrix = numeric_df.corr()\n",
    "\n",
    "# Korelasyon matrisinden belirli satırları seç\n",
    "selected_correlation = correlation_matrix.iloc[-1:]\n",
    "\n",
    "# Seçilen satıra stil ekleyerek görselleştirme\n",
    "styled_correlation = selected_correlation.style.background_gradient(cmap='coolwarm', axis=1)\n",
    "\n",
    "# Sonuçları gösterme\n",
    "styled_correlation"
   ]
  },
  {
   "cell_type": "markdown",
   "id": "74bd600e-ec3a-462d-832d-80584281e2c1",
   "metadata": {},
   "source": [
    "Yapabileceğimiz en düzgün çıkarım aracın minimum piyasa değeri ile satış değeri arasında çok ciddi bir korelasyon var insanlar genelde piysa fiyatının altına satış yapmıyorlar"
   ]
  },
  {
   "cell_type": "code",
   "execution_count": 12,
   "id": "e23bf2aa-d9f0-41f0-a523-faea05af552a",
   "metadata": {
    "tags": []
   },
   "outputs": [
    {
     "name": "stdout",
     "output_type": "stream",
     "text": [
      "   Değişken Korelasyon p-değeri Anlamlılık\n",
      "0       mmr      0.984    0.000       Evet\n",
      "1  odometer     -0.577    0.000       Evet\n"
     ]
    }
   ],
   "source": [
    "import pandas as pd\n",
    "from scipy.stats import pearsonr\n",
    "\n",
    "# Sayısal sütunları seç\n",
    "numeric_columns = df.select_dtypes(include=['float64', 'int64']).columns.difference(['year'])\n",
    "\n",
    "# 'numeric_columns' içinde belirtilen sütunları seçerek yeni bir DataFrame oluşturun\n",
    "numeric_df = df[numeric_columns]\n",
    "\n",
    "# Korelasyon matrisini hesapla\n",
    "correlation_matrix = numeric_df.corr()\n",
    "\n",
    "# Korelasyon matrisinden 'sellingprice' ile diğer değişkenler arasındaki korelasyonu alalım\n",
    "sellingprice_correlation = correlation_matrix['sellingprice'].drop('sellingprice')\n",
    "\n",
    "# Sonuçları saklamak için bir liste oluşturuyoruz\n",
    "results = []\n",
    "\n",
    "# İstatistiksel anlamlılık için Pearson korelasyon testini uygulayalım\n",
    "for column in sellingprice_correlation.index:\n",
    "    corr, p_value = pearsonr(df['sellingprice'], df[column])\n",
    "    \n",
    "    # Sonuçları listeye ekle\n",
    "    results.append({\n",
    "        'Değişken': column,\n",
    "        'Korelasyon': f\"{corr:.3f}\",\n",
    "        'p-değeri': f\"{p_value:.3f}\",\n",
    "        'Anlamlılık': 'Evet' if p_value < 0.05 else 'Hayır'\n",
    "    })\n",
    "\n",
    "# Sonuçları bir DataFrame'e dönüştür\n",
    "results_df = pd.DataFrame(results)\n",
    "\n",
    "# Sonuçları yazdır\n",
    "print(results_df)\n",
    "\n",
    "# Alternatif olarak tabloyu daha estetik bir şekilde göstermek için:\n",
    "# results_df.style.set_table_styles([{'selector': 'thead th', 'props': [('background-color', 'lightblue')]}])\n"
   ]
  },
  {
   "cell_type": "code",
   "execution_count": 13,
   "id": "a21d7298-efd6-4d9c-b1c6-7b719c038167",
   "metadata": {
    "tags": []
   },
   "outputs": [
    {
     "data": {
      "text/html": [
       "<style type=\"text/css\">\n",
       "#T_71581 thead th {\n",
       "  background-color: lightblue;\n",
       "  font-weight: bold;\n",
       "}\n",
       "#T_71581 tbody td {\n",
       "  background-color: #f5f5f5;\n",
       "}\n",
       "#T_71581 tr:nth-child(odd) {\n",
       "  background-color: #e9f7fb;\n",
       "}\n",
       "#T_71581 tr:nth-child(even) {\n",
       "  background-color: #ffffff;\n",
       "}\n",
       "</style>\n",
       "<table id=\"T_71581\">\n",
       "  <thead>\n",
       "    <tr>\n",
       "      <th class=\"blank level0\" >&nbsp;</th>\n",
       "      <th id=\"T_71581_level0_col0\" class=\"col_heading level0 col0\" >Değişken</th>\n",
       "      <th id=\"T_71581_level0_col1\" class=\"col_heading level0 col1\" >Korelasyon Katsayısı</th>\n",
       "      <th id=\"T_71581_level0_col2\" class=\"col_heading level0 col2\" >p-değeri</th>\n",
       "      <th id=\"T_71581_level0_col3\" class=\"col_heading level0 col3\" >Anlamlılık</th>\n",
       "    </tr>\n",
       "  </thead>\n",
       "  <tbody>\n",
       "    <tr>\n",
       "      <th id=\"T_71581_level0_row0\" class=\"row_heading level0 row0\" >0</th>\n",
       "      <td id=\"T_71581_row0_col0\" class=\"data row0 col0\" >mmr</td>\n",
       "      <td id=\"T_71581_row0_col1\" class=\"data row0 col1\" >0.984</td>\n",
       "      <td id=\"T_71581_row0_col2\" class=\"data row0 col2\" >0.000</td>\n",
       "      <td id=\"T_71581_row0_col3\" class=\"data row0 col3\" >Evet</td>\n",
       "    </tr>\n",
       "    <tr>\n",
       "      <th id=\"T_71581_level0_row1\" class=\"row_heading level0 row1\" >1</th>\n",
       "      <td id=\"T_71581_row1_col0\" class=\"data row1 col0\" >odometer</td>\n",
       "      <td id=\"T_71581_row1_col1\" class=\"data row1 col1\" >-0.577</td>\n",
       "      <td id=\"T_71581_row1_col2\" class=\"data row1 col2\" >0.000</td>\n",
       "      <td id=\"T_71581_row1_col3\" class=\"data row1 col3\" >Evet</td>\n",
       "    </tr>\n",
       "  </tbody>\n",
       "</table>\n"
      ],
      "text/plain": [
       "<pandas.io.formats.style.Styler at 0x27db5643bd0>"
      ]
     },
     "execution_count": 13,
     "metadata": {},
     "output_type": "execute_result"
    }
   ],
   "source": [
    "import pandas as pd\n",
    "from scipy.stats import pearsonr\n",
    "\n",
    "# Sayısal sütunları seç\n",
    "numeric_columns = df.select_dtypes(include=['float64', 'int64']).columns.difference(['year'])\n",
    "\n",
    "# 'numeric_columns' içinde belirtilen sütunları seçerek yeni bir DataFrame oluşturun\n",
    "numeric_df = df[numeric_columns]\n",
    "\n",
    "# Korelasyon matrisini hesapla\n",
    "correlation_matrix = numeric_df.corr()\n",
    "\n",
    "# Korelasyon matrisinden 'sellingprice' ile diğer değişkenler arasındaki korelasyonu alalım\n",
    "sellingprice_correlation = correlation_matrix['sellingprice'].drop('sellingprice')\n",
    "\n",
    "# Sonuçları saklamak için bir liste oluşturuyoruz\n",
    "results = []\n",
    "\n",
    "# İstatistiksel anlamlılık için Pearson korelasyon testini uygulayalım\n",
    "for column in sellingprice_correlation.index:\n",
    "    corr, p_value = pearsonr(df['sellingprice'], df[column])\n",
    "    \n",
    "    # Sonuçları listeye ekle\n",
    "    results.append({\n",
    "        'Değişken': column,\n",
    "        'Korelasyon Katsayısı': f\"{corr:.3f}\",\n",
    "        'p-değeri': f\"{p_value:.3f}\",\n",
    "        'Anlamlılık': 'Evet' if p_value < 0.05 else 'Hayır'\n",
    "    })\n",
    "\n",
    "# Sonuçları bir DataFrame'e dönüştür\n",
    "results_df = pd.DataFrame(results)\n",
    "\n",
    "# Estetik stil ayarları\n",
    "styled_df = results_df.style.set_table_styles([\n",
    "    {'selector': 'thead th', 'props': [('background-color', 'lightblue'), ('font-weight', 'bold')]},  # Başlıkları vurgula\n",
    "    {'selector': 'tbody td', 'props': [('background-color', '#f5f5f5')]},  # Satır arka planı\n",
    "    {'selector': 'tr:nth-child(odd)', 'props': [('background-color', '#e9f7fb')]},  # Tek satırlara renk ekle\n",
    "    {'selector': 'tr:nth-child(even)', 'props': [('background-color', '#ffffff')]},  # Çift satırlara renk ekle\n",
    "])\n",
    "\n",
    "# Sonuçları yazdır ve estetik görselleştirme\n",
    "styled_df\n"
   ]
  },
  {
   "cell_type": "code",
   "execution_count": 14,
   "id": "220d873b-fa2b-4cef-9f53-a14d881aa946",
   "metadata": {
    "tags": []
   },
   "outputs": [
    {
     "name": "stdout",
     "output_type": "stream",
     "text": [
      "Değişken: mmr | Korelasyon: 0.984 | p-değeri: 0.000\n",
      "Değişken mmr ile 'sellingprice' arasındaki korelasyon istatistiksel olarak anlamlıdır.\n",
      "Değişken: odometer | Korelasyon: -0.577 | p-değeri: 0.000\n",
      "Değişken odometer ile 'sellingprice' arasındaki korelasyon istatistiksel olarak anlamlıdır.\n"
     ]
    }
   ],
   "source": [
    "# İstatistiksel anlamlılık için Pearson korelasyon testini uygulayalım\n",
    "for column in sellingprice_correlation.index:\n",
    "    corr, p_value = pearsonr(df['sellingprice'], df[column])\n",
    "    print(f\"Değişken: {column} | Korelasyon: {corr:.3f} | p-değeri: {p_value:.3f}\")\n",
    "\n",
    "    # Korelasyonun istatistiksel olarak anlamlı olup olmadığını kontrol et\n",
    "    if p_value < 0.05:\n",
    "        print(f\"Değişken {column} ile 'sellingprice' arasındaki korelasyon istatistiksel olarak anlamlıdır.\")\n",
    "    else:\n",
    "        print(f\"Değişken {column} ile 'sellingprice' arasındaki korelasyon istatistiksel olarak anlamlı değildir.\")\n"
   ]
  },
  {
   "cell_type": "code",
   "execution_count": 15,
   "id": "b9913d57-4fab-4af1-875c-32b68db59f24",
   "metadata": {
    "tags": []
   },
   "outputs": [
    {
     "name": "stdout",
     "output_type": "stream",
     "text": [
      "   Variable       VIF\n",
      "0     const  9.931237\n",
      "1  odometer  1.511529\n",
      "2       mmr  1.511529\n"
     ]
    }
   ],
   "source": [
    "import pandas as pd\n",
    "from statsmodels.stats.outliers_influence import variance_inflation_factor\n",
    "from statsmodels.tools.tools import add_constant\n",
    "\n",
    "# Sayısal sütunları seç (sellingprice ve year hariç)\n",
    "numeric_columns = df.select_dtypes(include=['float64', 'int64'])  # Sayısal sütunları seç\n",
    "numeric_columns = numeric_columns.drop(columns=['sellingprice', 'year'])  # 'sellingprice' ve 'year' sütunlarını çıkar\n",
    "\n",
    "# Sabit terimi (intercept) ekleyelim\n",
    "X = add_constant(numeric_columns)\n",
    "\n",
    "# VIF hesaplaması\n",
    "vif_data = pd.DataFrame()\n",
    "vif_data['Variable'] = X.columns\n",
    "vif_data['VIF'] = [variance_inflation_factor(X.values, i) for i in range(X.shape[1])]\n",
    "\n",
    "\n",
    "print(vif_data)"
   ]
  },
  {
   "cell_type": "code",
   "execution_count": 16,
   "id": "4be3b989-0193-4f99-bfb5-8b6e4b1650da",
   "metadata": {
    "tags": []
   },
   "outputs": [
    {
     "name": "stdout",
     "output_type": "stream",
     "text": [
      "   Variable       VIF\n",
      "0  odometer  1.247378\n",
      "1       mmr  1.247378\n"
     ]
    }
   ],
   "source": [
    "import pandas as pd\n",
    "from statsmodels.stats.outliers_influence import variance_inflation_factor\n",
    "\n",
    "# Sayısal sütunları seç (sellingprice hariç)\n",
    "numeric_columns = df.select_dtypes(include=['float64', 'int64'])\n",
    "numeric_columns = numeric_columns.drop(columns=['sellingprice', 'year'])  # 'sellingprice' ve 'year' sütunlarını çıkar\n",
    "\n",
    "# VIF hesaplaması (sabit terim eklemeden)\n",
    "vif_data = pd.DataFrame()\n",
    "vif_data['Variable'] = numeric_columns.columns\n",
    "vif_data['VIF'] = [variance_inflation_factor(numeric_columns.values, i) for i in range(numeric_columns.shape[1])]\n",
    "\n",
    "\n",
    "print(vif_data)\n"
   ]
  },
  {
   "cell_type": "code",
   "execution_count": 17,
   "id": "6ccd9681-8945-41e3-b5bb-d6e3dc2ce1ce",
   "metadata": {
    "tags": []
   },
   "outputs": [
    {
     "data": {
      "text/html": [
       "<style type=\"text/css\">\n",
       "#T_82f54 thead th {\n",
       "  background-color: lightblue;\n",
       "  font-weight: bold;\n",
       "}\n",
       "#T_82f54 tbody td {\n",
       "  background-color: #f5f5f5;\n",
       "}\n",
       "#T_82f54 tr:nth-child(odd) {\n",
       "  background-color: #e9f7fb;\n",
       "}\n",
       "#T_82f54 tr:nth-child(even) {\n",
       "  background-color: #ffffff;\n",
       "}\n",
       "#T_82f54 tbody td:nth-child(2) {\n",
       "  text-align: center;\n",
       "}\n",
       "</style>\n",
       "<table id=\"T_82f54\">\n",
       "  <thead>\n",
       "    <tr>\n",
       "      <th class=\"blank level0\" >&nbsp;</th>\n",
       "      <th id=\"T_82f54_level0_col0\" class=\"col_heading level0 col0\" >Variable</th>\n",
       "      <th id=\"T_82f54_level0_col1\" class=\"col_heading level0 col1\" >VIF</th>\n",
       "    </tr>\n",
       "  </thead>\n",
       "  <tbody>\n",
       "    <tr>\n",
       "      <th id=\"T_82f54_level0_row0\" class=\"row_heading level0 row0\" >0</th>\n",
       "      <td id=\"T_82f54_row0_col0\" class=\"data row0 col0\" >odometer</td>\n",
       "      <td id=\"T_82f54_row0_col1\" class=\"data row0 col1\" >1.247378</td>\n",
       "    </tr>\n",
       "    <tr>\n",
       "      <th id=\"T_82f54_level0_row1\" class=\"row_heading level0 row1\" >1</th>\n",
       "      <td id=\"T_82f54_row1_col0\" class=\"data row1 col0\" >mmr</td>\n",
       "      <td id=\"T_82f54_row1_col1\" class=\"data row1 col1\" >1.247378</td>\n",
       "    </tr>\n",
       "  </tbody>\n",
       "</table>\n"
      ],
      "text/plain": [
       "<pandas.io.formats.style.Styler at 0x27db6eae910>"
      ]
     },
     "execution_count": 17,
     "metadata": {},
     "output_type": "execute_result"
    }
   ],
   "source": [
    "import pandas as pd\n",
    "from statsmodels.stats.outliers_influence import variance_inflation_factor\n",
    "\n",
    "# Sayısal sütunları seç (sellingprice hariç)\n",
    "numeric_columns = df.select_dtypes(include=['float64', 'int64'])\n",
    "numeric_columns = numeric_columns.drop(columns=['sellingprice', 'year'])  # 'sellingprice' ve 'year' sütunlarını çıkar\n",
    "\n",
    "# VIF hesaplaması (sabit terim eklemeden)\n",
    "vif_data = pd.DataFrame()\n",
    "vif_data['Variable'] = numeric_columns.columns\n",
    "vif_data['VIF'] = [variance_inflation_factor(numeric_columns.values, i) for i in range(numeric_columns.shape[1])]\n",
    "\n",
    "# Tabloyu estetik hale getirmek için stil uygulaması\n",
    "styled_vif_data = vif_data.style.set_table_styles([\n",
    "    {'selector': 'thead th', 'props': [('background-color', 'lightblue'), ('font-weight', 'bold')]},  # Başlıkları vurgula\n",
    "    {'selector': 'tbody td', 'props': [('background-color', '#f5f5f5')]},  # Satır arka planı\n",
    "    {'selector': 'tr:nth-child(odd)', 'props': [('background-color', '#e9f7fb')]},  # Tek satırlara renk ekle\n",
    "    {'selector': 'tr:nth-child(even)', 'props': [('background-color', '#ffffff')]},  # Çift satırlara renk ekle\n",
    "    {'selector': 'tbody td:nth-child(2)', 'props': [('text-align', 'center')]},  # VIF sütununu ortala\n",
    "])\n",
    "\n",
    "# Sonuçları yazdır ve estetik görselleştirme\n",
    "styled_vif_data\n"
   ]
  },
  {
   "cell_type": "markdown",
   "id": "014a1425-fdc5-4018-8851-2598c729d0db",
   "metadata": {},
   "source": [
    "### Normallik, Çarpıklık ,Basıklık "
   ]
  },
  {
   "cell_type": "markdown",
   "id": "8dd1f4d3-99bf-43b1-ae40-9af0439a0d19",
   "metadata": {},
   "source": [
    "- Shapiro-Wilks testi"
   ]
  },
  {
   "cell_type": "code",
   "execution_count": 20,
   "id": "cf2b4909-327f-49e3-98bc-612fc07c6542",
   "metadata": {
    "tags": []
   },
   "outputs": [
    {
     "name": "stdout",
     "output_type": "stream",
     "text": [
      "Test İstatistiği: 0.8884716629981995\n",
      "P Değeri: 0.0\n",
      "Veri normal dağılmıyor (H0 reddedilir).\n"
     ]
    }
   ],
   "source": [
    "from scipy import stats\n",
    "\n",
    "# Shapiro-Wilk testi (sellingprice sütunu)\n",
    "statistic, p_value = stats.shapiro(df['sellingprice'])\n",
    "\n",
    "# Sonuçları yazdırma\n",
    "print(f\"Test İstatistiği: {statistic}\")\n",
    "print(f\"P Değeri: {p_value}\")\n",
    "\n",
    "# P-değerine göre karar verme:\n",
    "alpha = 0.05  # %5 anlamlılık seviyesi\n",
    "if p_value > alpha:\n",
    "    print(\"Veri normal dağılıyor gibi görünüyor (H0 kabul edilir).\")\n",
    "else:\n",
    "    print(\"Veri normal dağılmıyor (H0 reddedilir).\")"
   ]
  },
  {
   "cell_type": "code",
   "execution_count": 21,
   "id": "bee58b08-8b33-4591-9d41-d88c1d476450",
   "metadata": {
    "tags": []
   },
   "outputs": [
    {
     "data": {
      "image/png": "[encoded data removed]",
      "text/plain": [
       "<Figure size 800x600 with 1 Axes>"
      ]
     },
     "metadata": {},
     "output_type": "display_data"
    }
   ],
   "source": [
    "import matplotlib.pyplot as plt\n",
    "\n",
    "# mmr sütunu için histogram çiz\n",
    "plt.figure(figsize=(8, 6))\n",
    "plt.hist(df['sellingprice'], bins=30, color='skyblue', edgecolor='black', alpha=0.7)\n",
    "\n",
    "# Başlık ve etiketler\n",
    "plt.title('sellingprice Dağılımı', fontsize=14)\n",
    "plt.xlabel('sellingprice Değerleri', fontsize=12)\n",
    "plt.ylabel('Frekans', fontsize=12)\n",
    "\n",
    "# Göster\n",
    "plt.show()\n"
   ]
  },
  {
   "cell_type": "code",
   "execution_count": 22,
   "id": "05b286aa-4cfa-4ab9-8e22-415115fea57b",
   "metadata": {
    "tags": []
   },
   "outputs": [
    {
     "name": "stdout",
     "output_type": "stream",
     "text": [
      "Çarpıklık (Skewness): 1.950 - Orta derecede sağa çarpık\n",
      "Basıklık (Kurtosis): 11.359 - Aşırı sivri (çok basık)\n"
     ]
    }
   ],
   "source": [
    "# Çarpıklık (skewness) ve Basıklık (kurtosis) hesaplama\n",
    "skewness = df['sellingprice'].skew()\n",
    "kurtosis = df['sellingprice'].kurt()\n",
    "\n",
    "# Çarpıklık Derecesi\n",
    "if skewness > 2:\n",
    "    skewness_degree = \"Şiddetli sağa çarpık\"\n",
    "elif skewness > 1:\n",
    "    skewness_degree = \"Orta derecede sağa çarpık\"\n",
    "elif skewness > 0:\n",
    "    skewness_degree = \"Hafif sağa çarpık\"\n",
    "elif skewness < -2:\n",
    "    skewness_degree = \"Şiddetli sola çarpık\"\n",
    "elif skewness < -1:\n",
    "    skewness_degree = \"Orta derecede sola çarpık\"\n",
    "elif skewness < 0:\n",
    "    skewness_degree = \"Hafif sola çarpık\"\n",
    "else:\n",
    "    skewness_degree = \"Simetrik (normal dağılıma yakın)\"\n",
    "\n",
    "# Basıklık Derecesi\n",
    "if kurtosis > 3:\n",
    "    kurtosis_degree = \"Aşırı sivri (çok basık)\"\n",
    "elif kurtosis == 3:\n",
    "    kurtosis_degree = \"Normal dağılıma yakın (kurtosis = 3)\"\n",
    "else:\n",
    "    kurtosis_degree = \"Düz (basık değil)\"\n",
    "\n",
    "# Sonuçları yazdırma\n",
    "print(f\"Çarpıklık (Skewness): {skewness:.3f} - {skewness_degree}\")\n",
    "print(f\"Basıklık (Kurtosis): {kurtosis:.3f} - {kurtosis_degree}\")\n"
   ]
  },
  {
   "cell_type": "code",
   "execution_count": 23,
   "id": "1616b9d1-1771-4ae8-90d9-694048f339ff",
   "metadata": {
    "tags": []
   },
   "outputs": [
    {
     "name": "stdout",
     "output_type": "stream",
     "text": [
      "Test İstatistiği: 0.869259238243103\n",
      "P Değeri: 0.0\n",
      "Veri normal dağılmıyor (H0 reddedilir).\n"
     ]
    }
   ],
   "source": [
    "from scipy import stats\n",
    "\n",
    "# Shapiro-Wilk testi (sellingprice sütunu)\n",
    "statistic, p_value = stats.shapiro(df['odometer'])\n",
    "\n",
    "# Sonuçları yazdırma\n",
    "print(f\"Test İstatistiği: {statistic}\")\n",
    "print(f\"P Değeri: {p_value}\")\n",
    "\n",
    "# P-değerine göre karar verme:\n",
    "alpha = 0.05  # %5 anlamlılık seviyesi\n",
    "if p_value > alpha:\n",
    "    print(\"Veri normal dağılıyor gibi görünüyor (H0 kabul edilir).\")\n",
    "else:\n",
    "    print(\"Veri normal dağılmıyor (H0 reddedilir).\")"
   ]
  },
  {
   "cell_type": "code",
   "execution_count": 24,
   "id": "05ef14f9-09a0-419c-8399-5b487705fec8",
   "metadata": {
    "tags": []
   },
   "outputs": [
    {
     "data": {
      "image/png": "[encoded data removed]",
      "text/plain": [
       "<Figure size 800x600 with 1 Axes>"
      ]
     },
     "metadata": {},
     "output_type": "display_data"
    }
   ],
   "source": [
    "import matplotlib.pyplot as plt\n",
    "\n",
    "# mmr sütunu için histogram çiz\n",
    "plt.figure(figsize=(8, 6))\n",
    "plt.hist(df['odometer'], bins=30, color='skyblue', edgecolor='black', alpha=0.7)\n",
    "\n",
    "# Başlık ve etiketler\n",
    "plt.title('Odometer Dağılımı', fontsize=14)\n",
    "plt.xlabel('Odometer Değerleri', fontsize=12)\n",
    "plt.ylabel('Frekans', fontsize=12)\n",
    "\n",
    "# Göster\n",
    "plt.show()\n"
   ]
  },
  {
   "cell_type": "code",
   "execution_count": 25,
   "id": "2cf40d39-c927-43cf-8219-f15ebeeb3a6e",
   "metadata": {
    "tags": []
   },
   "outputs": [
    {
     "name": "stdout",
     "output_type": "stream",
     "text": [
      "Çarpıklık (Skewness): 1.908 - Orta derecede sağa çarpık\n",
      "Basıklık (Kurtosis): 14.403 - Aşırı sivri (çok basık)\n"
     ]
    }
   ],
   "source": [
    "# Çarpıklık (skewness) ve Basıklık (kurtosis) hesaplama\n",
    "skewness = df['odometer'].skew()\n",
    "kurtosis = df['odometer'].kurt()\n",
    "\n",
    "# Çarpıklık Derecesi\n",
    "if skewness > 2:\n",
    "    skewness_degree = \"Şiddetli sağa çarpık\"\n",
    "elif skewness > 1:\n",
    "    skewness_degree = \"Orta derecede sağa çarpık\"\n",
    "elif skewness > 0:\n",
    "    skewness_degree = \"Hafif sağa çarpık\"\n",
    "elif skewness < -2:\n",
    "    skewness_degree = \"Şiddetli sola çarpık\"\n",
    "elif skewness < -1:\n",
    "    skewness_degree = \"Orta derecede sola çarpık\"\n",
    "elif skewness < 0:\n",
    "    skewness_degree = \"Hafif sola çarpık\"\n",
    "else:\n",
    "    skewness_degree = \"Simetrik (normal dağılıma yakın)\"\n",
    "\n",
    "# Basıklık Derecesi\n",
    "if kurtosis > 3:\n",
    "    kurtosis_degree = \"Aşırı sivri (çok basık)\"\n",
    "elif kurtosis == 3:\n",
    "    kurtosis_degree = \"Normal dağılıma yakın (kurtosis = 3)\"\n",
    "else:\n",
    "    kurtosis_degree = \"Düz (basık değil)\"\n",
    "\n",
    "# Sonuçları yazdırma\n",
    "print(f\"Çarpıklık (Skewness): {skewness:.3f} - {skewness_degree}\")\n",
    "print(f\"Basıklık (Kurtosis): {kurtosis:.3f} - {kurtosis_degree}\")\n"
   ]
  },
  {
   "cell_type": "code",
   "execution_count": 26,
   "id": "c7312118-259e-45f2-afab-d37ad9947d79",
   "metadata": {
    "tags": []
   },
   "outputs": [
    {
     "name": "stdout",
     "output_type": "stream",
     "text": [
      "Test İstatistiği: 0.8842412233352661\n",
      "P Değeri: 0.0\n",
      "Veri normal dağılmıyor (H0 reddedilir).\n"
     ]
    }
   ],
   "source": [
    "from scipy import stats\n",
    "\n",
    "\n",
    "# Shapiro-Wilk testi (sellingprice sütunu)\n",
    "statistic, p_value = stats.shapiro(df['mmr'])\n",
    "\n",
    "# Sonuçları yazdırma\n",
    "print(f\"Test İstatistiği: {statistic}\")\n",
    "print(f\"P Değeri: {p_value}\")\n",
    "\n",
    "# P-değerine göre karar verme:\n",
    "alpha = 0.05  # %5 anlamlılık seviyesi\n",
    "if p_value > alpha:\n",
    "    print(\"Veri normal dağılıyor gibi görünüyor (H0 kabul edilir).\")\n",
    "else:\n",
    "    print(\"Veri normal dağılmıyor (H0 reddedilir).\")"
   ]
  },
  {
   "cell_type": "code",
   "execution_count": 27,
   "id": "0b371988-ae31-4ae0-9082-04a80d133a45",
   "metadata": {
    "tags": []
   },
   "outputs": [
    {
     "data": {
      "image/png": "[encoded data removed]",
      "text/plain": [
       "<Figure size 800x600 with 1 Axes>"
      ]
     },
     "metadata": {},
     "output_type": "display_data"
    }
   ],
   "source": [
    "import matplotlib.pyplot as plt\n",
    "\n",
    "# mmr sütunu için histogram çiz\n",
    "plt.figure(figsize=(8, 6))\n",
    "plt.hist(df['mmr'], bins=30, color='skyblue', edgecolor='black', alpha=0.7)\n",
    "\n",
    "# Başlık ve etiketler\n",
    "plt.title('MMR Dağılımı', fontsize=14)\n",
    "plt.xlabel('MMR Değerleri', fontsize=12)\n",
    "plt.ylabel('Frekans', fontsize=12)\n",
    "\n",
    "# Göster\n",
    "plt.show()\n"
   ]
  },
  {
   "cell_type": "code",
   "execution_count": 28,
   "id": "4713cf85-a393-4509-91c8-e3ab96998e92",
   "metadata": {
    "tags": []
   },
   "outputs": [
    {
     "name": "stdout",
     "output_type": "stream",
     "text": [
      "Çarpıklık (Skewness): 2.000 - Orta derecede sağa çarpık\n",
      "Basıklık (Kurtosis): 11.755 - Aşırı sivri (çok basık)\n"
     ]
    }
   ],
   "source": [
    "# Çarpıklık (skewness) ve Basıklık (kurtosis) hesaplama\n",
    "skewness = df['mmr'].skew()\n",
    "kurtosis = df['mmr'].kurt()\n",
    "\n",
    "# Çarpıklık Derecesi\n",
    "if skewness > 2:\n",
    "    skewness_degree = \"Şiddetli sağa çarpık\"\n",
    "elif skewness > 1:\n",
    "    skewness_degree = \"Orta derecede sağa çarpık\"\n",
    "elif skewness > 0:\n",
    "    skewness_degree = \"Hafif sağa çarpık\"\n",
    "elif skewness < -2:\n",
    "    skewness_degree = \"Şiddetli sola çarpık\"\n",
    "elif skewness < -1:\n",
    "    skewness_degree = \"Orta derecede sola çarpık\"\n",
    "elif skewness < 0:\n",
    "    skewness_degree = \"Hafif sola çarpık\"\n",
    "else:\n",
    "    skewness_degree = \"Simetrik (normal dağılıma yakın)\"\n",
    "\n",
    "# Basıklık Derecesi\n",
    "if kurtosis > 3:\n",
    "    kurtosis_degree = \"Aşırı sivri (çok basık)\"\n",
    "elif kurtosis == 3:\n",
    "    kurtosis_degree = \"Normal dağılıma yakın (kurtosis = 3)\"\n",
    "else:\n",
    "    kurtosis_degree = \"Düz (basık değil)\"\n",
    "\n",
    "# Sonuçları yazdırma\n",
    "print(f\"Çarpıklık (Skewness): {skewness:.3f} - {skewness_degree}\")\n",
    "print(f\"Basıklık (Kurtosis): {kurtosis:.3f} - {kurtosis_degree}\")\n"
   ]
  },
  {
   "cell_type": "code",
   "execution_count": 29,
   "id": "6ab490c7-9e2b-47c0-940d-85388d24638d",
   "metadata": {
    "tags": []
   },
   "outputs": [
    {
     "name": "stdout",
     "output_type": "stream",
     "text": [
      "<class 'pandas.core.frame.DataFrame'>\n",
      "Index: 533648 entries, 0 to 558836\n",
      "Data columns (total 16 columns):\n",
      " #   Column               Non-Null Count   Dtype  \n",
      "---  ------               --------------   -----  \n",
      " 0   year                 533648 non-null  int64  \n",
      " 1   make                 533648 non-null  object \n",
      " 2   model                533648 non-null  object \n",
      " 3   trim                 533648 non-null  object \n",
      " 4   body                 533648 non-null  object \n",
      " 5   transmission         533648 non-null  object \n",
      " 6   vin                  533648 non-null  object \n",
      " 7   state                533648 non-null  object \n",
      " 8   odometer             533648 non-null  float64\n",
      " 9   color                533648 non-null  object \n",
      " 10  interior             533648 non-null  object \n",
      " 11  seller               533648 non-null  object \n",
      " 12  mmr                  533648 non-null  float64\n",
      " 13  sellingprice         533648 non-null  float64\n",
      " 14  saledate             533648 non-null  object \n",
      " 15  condition_categoric  533648 non-null  object \n",
      "dtypes: float64(3), int64(1), object(12)\n",
      "memory usage: 69.2+ MB\n"
     ]
    }
   ],
   "source": [
    " df.info()"
   ]
  },
  {
   "cell_type": "markdown",
   "id": "b0885b6c-7b8c-41fb-b409-e870d721c23f",
   "metadata": {},
   "source": [
    "### Homojenlik testi"
   ]
  },
  {
   "cell_type": "code",
   "execution_count": 31,
   "id": "d85a3372-cfd9-4c23-92ba-85e558f4607b",
   "metadata": {
    "tags": []
   },
   "outputs": [
    {
     "name": "stdout",
     "output_type": "stream",
     "text": [
      "\n",
      "========================================\n",
      "Test: make\n",
      "========================================\n",
      "Levene Testi - make: Stat=1629.6814, p-value=0.0000\n",
      "Varyanslar homojen değil (p < 0.05).\n",
      "\n",
      "========================================\n",
      "Test: model\n",
      "========================================\n",
      "Levene Testi - model: Stat=326.9006, p-value=0.0000\n",
      "Varyanslar homojen değil (p < 0.05).\n",
      "\n",
      "========================================\n",
      "Test: trim\n",
      "========================================\n",
      "Levene Testi - trim: Stat=99.1619, p-value=0.0000\n",
      "Varyanslar homojen değil (p < 0.05).\n",
      "\n",
      "========================================\n",
      "Test: body\n",
      "========================================\n",
      "Levene Testi - body: Stat=431.2949, p-value=0.0000\n",
      "Varyanslar homojen değil (p < 0.05).\n",
      "\n",
      "========================================\n",
      "Test: transmission\n",
      "========================================\n",
      "Levene Testi - transmission: Stat=18.4091, p-value=0.0000\n",
      "Varyanslar homojen değil (p < 0.05).\n",
      "\n",
      "========================================\n",
      "Test: vin\n",
      "========================================\n",
      "Levene Testi - vin: Stat=0.6868, p-value=1.0000\n",
      "Varyanslar homojen (p >= 0.05).\n",
      "\n",
      "========================================\n",
      "Test: state\n",
      "========================================\n",
      "Levene Testi - state: Stat=203.4692, p-value=0.0000\n",
      "Varyanslar homojen değil (p < 0.05).\n",
      "\n",
      "========================================\n",
      "Test: color\n",
      "========================================\n",
      "Levene Testi - color: Stat=216.9137, p-value=0.0000\n",
      "Varyanslar homojen değil (p < 0.05).\n",
      "\n",
      "========================================\n",
      "Test: interior\n",
      "========================================\n",
      "Levene Testi - interior: Stat=467.2961, p-value=0.0000\n",
      "Varyanslar homojen değil (p < 0.05).\n",
      "\n",
      "========================================\n",
      "Test: seller\n",
      "========================================\n",
      "Levene Testi - seller: Stat=8.4153, p-value=0.0000\n",
      "Varyanslar homojen değil (p < 0.05).\n",
      "\n",
      "========================================\n",
      "Test: condition_categoric\n",
      "========================================\n",
      "Levene Testi - condition_categoric: Stat=5452.7783, p-value=0.0000\n",
      "Varyanslar homojen değil (p < 0.05).\n"
     ]
    }
   ],
   "source": [
    "import pandas as pd\n",
    "import scipy.stats as stats\n",
    "\n",
    "# Bağımsız ve bağımlı değişkenler\n",
    "categorical_columns = ['make', 'model', 'trim', 'body', 'transmission', 'vin', 'state', \n",
    "                       'color', 'interior', 'seller', 'condition_categoric']\n",
    "dependent_variable = 'sellingprice'\n",
    "\n",
    "# Levene Testi\n",
    "def levene_test(df, categorical_column, dependent_variable):\n",
    "    groups = df.groupby(categorical_column)[dependent_variable].apply(list)\n",
    "    stat, p_value = stats.levene(*groups)\n",
    "    print(f\"Levene Testi - {categorical_column}: Stat={stat:.4f}, p-value={p_value:.4f}\")\n",
    "    if p_value < 0.05:\n",
    "        print(f\"Varyanslar homojen değil (p < 0.05).\")\n",
    "    else:\n",
    "        print(f\"Varyanslar homojen (p >= 0.05).\")\n",
    "\n",
    "\n",
    "# Tüm kategorik değişkenler üzerinde testleri çalıştırma\n",
    "for column in categorical_columns:\n",
    "    print(f\"\\n{'='*40}\\nTest: {column}\\n{'='*40}\")\n",
    "    levene_test(df, column, dependent_variable)\n",
    "\n"
   ]
  },
  {
   "cell_type": "code",
   "execution_count": 32,
   "id": "b38ca4cc-b642-474e-8f26-68a763bc5d4d",
   "metadata": {
    "tags": []
   },
   "outputs": [
    {
     "name": "stdout",
     "output_type": "stream",
     "text": [
      "\n",
      "========================================\n",
      "Test: make\n",
      "========================================\n",
      "Fligner-Killeen Testi - make: Stat=76167.5506, p-value=0.0000\n",
      "Varyanslar homojen değil (p < 0.05).\n",
      "\n",
      "========================================\n",
      "Test: model\n",
      "========================================\n",
      "Fligner-Killeen Testi - model: Stat=176001.6732, p-value=0.0000\n",
      "Varyanslar homojen değil (p < 0.05).\n",
      "\n",
      "========================================\n",
      "Test: trim\n",
      "========================================\n",
      "Fligner-Killeen Testi - trim: Stat=143539.2907, p-value=0.0000\n",
      "Varyanslar homojen değil (p < 0.05).\n",
      "\n",
      "========================================\n",
      "Test: body\n",
      "========================================\n",
      "Fligner-Killeen Testi - body: Stat=45007.5271, p-value=0.0000\n",
      "Varyanslar homojen değil (p < 0.05).\n",
      "\n",
      "========================================\n",
      "Test: transmission\n",
      "========================================\n",
      "Fligner-Killeen Testi - transmission: Stat=0.0154, p-value=0.9014\n",
      "Varyanslar homojen (p >= 0.05).\n",
      "\n",
      "========================================\n",
      "Test: vin\n",
      "========================================\n",
      "Fligner-Killeen Testi - vin: Stat=528573.7041, p-value=0.0021\n",
      "Varyanslar homojen değil (p < 0.05).\n",
      "\n",
      "========================================\n",
      "Test: state\n",
      "========================================\n",
      "Fligner-Killeen Testi - state: Stat=8637.5477, p-value=0.0000\n",
      "Varyanslar homojen değil (p < 0.05).\n",
      "\n",
      "========================================\n",
      "Test: color\n",
      "========================================\n",
      "Fligner-Killeen Testi - color: Stat=4818.1483, p-value=0.0000\n",
      "Varyanslar homojen değil (p < 0.05).\n",
      "\n",
      "========================================\n",
      "Test: interior\n",
      "========================================\n",
      "Fligner-Killeen Testi - interior: Stat=8072.6308, p-value=0.0000\n",
      "Varyanslar homojen değil (p < 0.05).\n",
      "\n",
      "========================================\n",
      "Test: seller\n",
      "========================================\n",
      "Fligner-Killeen Testi - seller: Stat=117260.2055, p-value=0.0000\n",
      "Varyanslar homojen değil (p < 0.05).\n",
      "\n",
      "========================================\n",
      "Test: condition_categoric\n",
      "========================================\n",
      "Fligner-Killeen Testi - condition_categoric: Stat=30451.4260, p-value=0.0000\n",
      "Varyanslar homojen değil (p < 0.05).\n"
     ]
    }
   ],
   "source": [
    "import pandas as pd\n",
    "import scipy.stats as stats\n",
    "\n",
    "# Bağımsız ve bağımlı değişkenler\n",
    "categorical_columns = ['make', 'model', 'trim', 'body', 'transmission', 'vin', 'state', \n",
    "                       'color', 'interior', 'seller', 'condition_categoric']\n",
    "dependent_variable = 'sellingprice'\n",
    "# Fligner-Killeen Testi\n",
    "def fligner_killeen_test(df, categorical_column, dependent_variable):\n",
    "    groups = df.groupby(categorical_column)[dependent_variable].apply(list)\n",
    "    stat, p_value = stats.fligner(*groups)\n",
    "    print(f\"Fligner-Killeen Testi - {categorical_column}: Stat={stat:.4f}, p-value={p_value:.4f}\")\n",
    "    if p_value < 0.05:\n",
    "        print(f\"Varyanslar homojen değil (p < 0.05).\")\n",
    "    else:\n",
    "        print(f\"Varyanslar homojen (p >= 0.05).\")\n",
    "        # Tüm kategorik değişkenler üzerinde testleri çalıştırma\n",
    "for column in categorical_columns:\n",
    "    print(f\"\\n{'='*40}\\nTest: {column}\\n{'='*40}\")\n",
    "    fligner_killeen_test(df, column, dependent_variable)\n"
   ]
  },
  {
   "cell_type": "markdown",
   "id": "94a08755-8f1a-45c1-8433-ee0224a14d43",
   "metadata": {},
   "source": [
    "\"Yapılan Levene ve Fligner-Killeen Testi, gruplar arasında varyansların homojen olmadığını göstermektedir. Bu, bağımsız değişkenlerin farklı kategorilerinin sellingprice üzerindeki etkisinin farklı varyanslara sahip olduğunu, dolayısıyla gruplar arasında eşit yayılma olmadığını ortaya koymaktadır. Bu durum, parametrik testlerin (örneğin, ANOVA) yerine non-parametrik testlerin kullanılması gerektiğini gösterir.\""
   ]
  },
  {
   "cell_type": "markdown",
   "id": "5833fe6a-f501-401b-b5f7-afa9bff68f52",
   "metadata": {},
   "source": [
    "Ne Yapmalı bu ne anlama geliyor ml sürecini nasıl yönlendirir ?\n",
    "\n",
    "Non-parametrik Modeller: Varyansların eşit olmaması ve normal dağılımın ihlali nedeniyle, parametrik modeller yerine non-parametrik modeller tercih edilmelidir. Örneğin:Kruskal-Wallis testi veya Mann-Whitney U testi gibi testler kullanılabilir. Decision Tree, Random Forest veya Gradient Boosting gibi algoritmalar, dağılım varsayımlarına duyarlı olmayan, esnek modellerdir ve heteroskedastik veriyle daha iyi çalışabilir.\n",
    "\n",
    "\n",
    "Veri Dönüşümü: Veri setindeki çarpıklık için dönüşüm işlemleri (logaritmik dönüşüm, karekök dönüşümü) yapılabilir. Bu, verinin daha simetrik bir hale gelmesine yardımcı olabilir.\n",
    "\n",
    "\n",
    "\n",
    "Model Seçimi ve Değerlendirme\n",
    "Doğrusal Regresyon: Bu model, varyansların homojen olduğunu varsayar ve normal dağılım gerektirir. Bu nedenle, heteroskedastik verilerle doğrusal regresyon kullanılmamalıdır.\n",
    "Ağaç Tabanlı Yöntemler: Random Forest ve XGBoost gibi ağaç tabanlı yöntemler, veri setindeki heteroskedastisite ve normal dağılım ihlalleri ile başa çıkabilir.\n"
   ]
  },
  {
   "cell_type": "markdown",
   "id": "14523af0-a379-4088-91f8-77e5488341c3",
   "metadata": {},
   "source": [
    "### Chi-Square testi"
   ]
  },
  {
   "cell_type": "code",
   "execution_count": 36,
   "id": "657f2346-03aa-4432-9b3e-b92fd487ec16",
   "metadata": {
    "tags": []
   },
   "outputs": [
    {
     "name": "stdout",
     "output_type": "stream",
     "text": [
      "Chi-Square Test Sonuçları:\n"
     ]
    },
    {
     "data": {
      "text/html": [
       "<style type=\"text/css\">\n",
       "#T_0bf59 thead th {\n",
       "  background-color: lightblue;\n",
       "  font-weight: bold;\n",
       "}\n",
       "#T_0bf59 tbody td {\n",
       "  background-color: lightgray;\n",
       "  text-align: center;\n",
       "}\n",
       "</style>\n",
       "<table id=\"T_0bf59\">\n",
       "  <thead>\n",
       "    <tr>\n",
       "      <th id=\"T_0bf59_level0_col0\" class=\"col_heading level0 col0\" >Değişken 1</th>\n",
       "      <th id=\"T_0bf59_level0_col1\" class=\"col_heading level0 col1\" >Değişken 2</th>\n",
       "      <th id=\"T_0bf59_level0_col2\" class=\"col_heading level0 col2\" >Test İstatistiği</th>\n",
       "      <th id=\"T_0bf59_level0_col3\" class=\"col_heading level0 col3\" >p-değeri</th>\n",
       "      <th id=\"T_0bf59_level0_col4\" class=\"col_heading level0 col4\" >Serbestlik Derecesi</th>\n",
       "    </tr>\n",
       "  </thead>\n",
       "  <tbody>\n",
       "    <tr>\n",
       "      <td id=\"T_0bf59_row0_col0\" class=\"data row0 col0\" >make</td>\n",
       "      <td id=\"T_0bf59_row0_col1\" class=\"data row0 col1\" >body</td>\n",
       "      <td id=\"T_0bf59_row0_col2\" class=\"data row0 col2\" >32736.980761</td>\n",
       "      <td id=\"T_0bf59_row0_col3\" class=\"data row0 col3\" >0.000000</td>\n",
       "      <td id=\"T_0bf59_row0_col4\" class=\"data row0 col4\" >208</td>\n",
       "    </tr>\n",
       "  </tbody>\n",
       "</table>\n"
      ],
      "text/plain": [
       "<pandas.io.formats.style.Styler at 0x27db99984d0>"
      ]
     },
     "metadata": {},
     "output_type": "display_data"
    },
    {
     "name": "stdout",
     "output_type": "stream",
     "text": [
      "Değişkenler arasında anlamlı bir ilişki vardır. H0 reddedilir.\n"
     ]
    }
   ],
   "source": [
    "import pandas as pd\n",
    "from scipy.stats import chi2_contingency\n",
    "\n",
    "# Çapraz tabloyu oluştur (örnek olarak 'make' ve 'body' değişkenleri)\n",
    "contingency_table = pd.crosstab(df['make'], df['condition_categoric'])\n",
    "\n",
    "# Chi-Square testi\n",
    "chi2_stat, p_value, dof, expected = chi2_contingency(contingency_table)\n",
    "\n",
    "# Test Sonuçları için Pandas DataFrame oluşturma\n",
    "test_results = pd.DataFrame({\n",
    "    'Değişken 1': ['make'],\n",
    "    'Değişken 2': ['body'],\n",
    "    'Test İstatistiği': [chi2_stat],\n",
    "    'p-değeri': [p_value],\n",
    "    'Serbestlik Derecesi': [dof]\n",
    "})\n",
    "\n",
    "# Sonuçları estetik bir şekilde görüntüleme\n",
    "styled_test_results = test_results.style.set_table_styles([\n",
    "    {'selector': 'thead th', 'props': [('background-color', 'lightblue'), ('font-weight', 'bold')]},\n",
    "    {'selector': 'tbody td', 'props': [('background-color', 'lightgray'), ('text-align', 'center')]},\n",
    "]).hide(axis=\"index\")\n",
    "\n",
    "# Chi-Square test sonuçlarını yazdırma\n",
    "print(\"Chi-Square Test Sonuçları:\")\n",
    "display(styled_test_results)  # Test sonuçlarını estetik bir şekilde gösterme\n",
    "\n",
    "# p-değeri ile karar verme\n",
    "alpha = 0.05\n",
    "if p_value < alpha:\n",
    "    print(f\"Değişkenler arasında anlamlı bir ilişki vardır. H0 reddedilir.\")\n",
    "else:\n",
    "    print(\"Değişkenler arasında anlamlı bir ilişki yoktur. H0 kabul edilir.\")\n"
   ]
  },
  {
   "cell_type": "code",
   "execution_count": 37,
   "id": "a9101a01-3a24-4919-89a1-85f4251c1788",
   "metadata": {
    "tags": []
   },
   "outputs": [
    {
     "name": "stdout",
     "output_type": "stream",
     "text": [
      "Chi-Square Test Sonuçları:\n"
     ]
    },
    {
     "data": {
      "text/html": [
       "<style type=\"text/css\">\n",
       "#T_33fd7 thead th {\n",
       "  background-color: lightblue;\n",
       "  font-weight: bold;\n",
       "}\n",
       "#T_33fd7 tbody td {\n",
       "  background-color: lightgray;\n",
       "  text-align: center;\n",
       "}\n",
       "</style>\n",
       "<table id=\"T_33fd7\">\n",
       "  <thead>\n",
       "    <tr>\n",
       "      <th id=\"T_33fd7_level0_col0\" class=\"col_heading level0 col0\" >Değişken 1</th>\n",
       "      <th id=\"T_33fd7_level0_col1\" class=\"col_heading level0 col1\" >Değişken 2</th>\n",
       "      <th id=\"T_33fd7_level0_col2\" class=\"col_heading level0 col2\" >Test İstatistiği</th>\n",
       "      <th id=\"T_33fd7_level0_col3\" class=\"col_heading level0 col3\" >p-değeri</th>\n",
       "      <th id=\"T_33fd7_level0_col4\" class=\"col_heading level0 col4\" >Serbestlik Derecesi</th>\n",
       "    </tr>\n",
       "  </thead>\n",
       "  <tbody>\n",
       "    <tr>\n",
       "      <td id=\"T_33fd7_row0_col0\" class=\"data row0 col0\" >make</td>\n",
       "      <td id=\"T_33fd7_row0_col1\" class=\"data row0 col1\" >body</td>\n",
       "      <td id=\"T_33fd7_row0_col2\" class=\"data row0 col2\" >98789.469034</td>\n",
       "      <td id=\"T_33fd7_row0_col3\" class=\"data row0 col3\" >0.000000</td>\n",
       "      <td id=\"T_33fd7_row0_col4\" class=\"data row0 col4\" >3084</td>\n",
       "    </tr>\n",
       "  </tbody>\n",
       "</table>\n"
      ],
      "text/plain": [
       "<pandas.io.formats.style.Styler at 0x27daf5b48d0>"
      ]
     },
     "metadata": {},
     "output_type": "display_data"
    },
    {
     "name": "stdout",
     "output_type": "stream",
     "text": [
      "Değişkenler arasında anlamlı bir ilişki vardır. H0 reddedilir.\n"
     ]
    }
   ],
   "source": [
    "import pandas as pd\n",
    "from scipy.stats import chi2_contingency\n",
    "\n",
    "# Çapraz tabloyu oluştur (örnek olarak 'make' ve 'body' değişkenleri)\n",
    "contingency_table = pd.crosstab(df['model'], df['condition_categoric'])\n",
    "\n",
    "# Chi-Square testi\n",
    "chi2_stat, p_value, dof, expected = chi2_contingency(contingency_table)\n",
    "\n",
    "# Test Sonuçları için Pandas DataFrame oluşturma\n",
    "test_results = pd.DataFrame({\n",
    "    'Değişken 1': ['make'],\n",
    "    'Değişken 2': ['body'],\n",
    "    'Test İstatistiği': [chi2_stat],\n",
    "    'p-değeri': [p_value],\n",
    "    'Serbestlik Derecesi': [dof]\n",
    "})\n",
    "\n",
    "# Sonuçları estetik bir şekilde görüntüleme\n",
    "styled_test_results = test_results.style.set_table_styles([\n",
    "    {'selector': 'thead th', 'props': [('background-color', 'lightblue'), ('font-weight', 'bold')]},\n",
    "    {'selector': 'tbody td', 'props': [('background-color', 'lightgray'), ('text-align', 'center')]},\n",
    "]).hide(axis=\"index\")\n",
    "\n",
    "# Chi-Square test sonuçlarını yazdırma\n",
    "print(\"Chi-Square Test Sonuçları:\")\n",
    "display(styled_test_results)  # Test sonuçlarını estetik bir şekilde gösterme\n",
    "\n",
    "# p-değeri ile karar verme\n",
    "alpha = 0.05\n",
    "if p_value < alpha:\n",
    "    print(f\"Değişkenler arasında anlamlı bir ilişki vardır. H0 reddedilir.\")\n",
    "else:\n",
    "    print(\"Değişkenler arasında anlamlı bir ilişki yoktur. H0 kabul edilir.\")\n",
    "\n"
   ]
  },
  {
   "cell_type": "markdown",
   "id": "7b85ded9-4825-4a63-ad8d-ff88a3d5a2a5",
   "metadata": {},
   "source": [
    "Veri setindeki kategorik değişkenlerin hepsi bir arabanın parçaları olduğu için doğal olarak aralarında anlamlı ilişki olması muhtemel ve doğaldır bu yüzden bu hipotez testine devam etmiyoruz"
   ]
  },
  {
   "cell_type": "markdown",
   "id": "cb6b5f5d-db9a-4673-857e-3a80a68ecb32",
   "metadata": {},
   "source": [
    "### Kruskal Wallis H Testi"
   ]
  },
  {
   "cell_type": "code",
   "execution_count": 40,
   "id": "83778b9e-a32d-498d-bda2-585f9ca3ff74",
   "metadata": {
    "tags": []
   },
   "outputs": [
    {
     "name": "stdout",
     "output_type": "stream",
     "text": [
      "Kruskal-Wallis Test Sonuçları:\n"
     ]
    },
    {
     "data": {
      "text/html": [
       "<style type=\"text/css\">\n",
       "#T_7da56 thead th {\n",
       "  background-color: lightblue;\n",
       "  font-weight: bold;\n",
       "}\n",
       "#T_7da56 tbody td {\n",
       "  background-color: lightgray;\n",
       "  text-align: center;\n",
       "}\n",
       "</style>\n",
       "<table id=\"T_7da56\">\n",
       "  <thead>\n",
       "    <tr>\n",
       "      <th id=\"T_7da56_level0_col0\" class=\"col_heading level0 col0\" >Test İstatistiği</th>\n",
       "      <th id=\"T_7da56_level0_col1\" class=\"col_heading level0 col1\" >p-değeri</th>\n",
       "      <th id=\"T_7da56_level0_col2\" class=\"col_heading level0 col2\" >Anlamlılık Durumu</th>\n",
       "      <th id=\"T_7da56_level0_col3\" class=\"col_heading level0 col3\" >H0 Kararı</th>\n",
       "    </tr>\n",
       "  </thead>\n",
       "  <tbody>\n",
       "    <tr>\n",
       "      <td id=\"T_7da56_row0_col0\" class=\"data row0 col0\" >28272.833698</td>\n",
       "      <td id=\"T_7da56_row0_col1\" class=\"data row0 col1\" >0.000000</td>\n",
       "      <td id=\"T_7da56_row0_col2\" class=\"data row0 col2\" >Renkler arasında satış fiyatları ile anlamlı bir ilişki vardır.</td>\n",
       "      <td id=\"T_7da56_row0_col3\" class=\"data row0 col3\" >H0 reddedilir</td>\n",
       "    </tr>\n",
       "  </tbody>\n",
       "</table>\n"
      ],
      "text/plain": [
       "<pandas.io.formats.style.Styler at 0x27db9bf5610>"
      ]
     },
     "metadata": {},
     "output_type": "display_data"
    }
   ],
   "source": [
    "import pandas as pd\n",
    "from scipy.stats import kruskal\n",
    "\n",
    "# \"color\" değişkenindeki her grup için \"sellingprice\" değerlerini ayıralım\n",
    "color_values = df['color']\n",
    "sellingprice_values = df['sellingprice']\n",
    "\n",
    "# \"color\" değişkenindeki her bir benzersiz renk için satış fiyatlarını grupluyoruz\n",
    "groups = [sellingprice_values[color_values == color] for color in color_values.unique()]\n",
    "\n",
    "# Kruskal-Wallis H testi (çoklu gruplar arasındaki ilişkiyi test etmek için)\n",
    "kruskal_result = kruskal(*groups)\n",
    "\n",
    "# Sonuçları DataFrame olarak hazırlama\n",
    "h0_decision = 'H0 reddedilir' if kruskal_result.pvalue < 0.05 else 'H0 kabul edilir'\n",
    "\n",
    "results = pd.DataFrame({\n",
    "    'Test İstatistiği': [kruskal_result.statistic],\n",
    "    'p-değeri': [kruskal_result.pvalue],\n",
    "    'Anlamlılık Durumu': ['Renkler arasında satış fiyatları ile anlamlı bir ilişki vardır.' if kruskal_result.pvalue < 0.05 else 'Renkler arasında satış fiyatları ile anlamlı bir ilişki yoktur.'],\n",
    "    'H0 Kararı': [h0_decision]\n",
    "})\n",
    "\n",
    "# Sonuçları güzel bir şekilde tablolaştırma\n",
    "styled_results = results.style.set_table_styles([\n",
    "    {'selector': 'thead th', 'props': [('background-color', 'lightblue'), ('font-weight', 'bold')]},\n",
    "    {'selector': 'tbody td', 'props': [('background-color', 'lightgray'), ('text-align', 'center')]},\n",
    "]).hide(axis=\"index\")\n",
    "\n",
    "# Test sonuçlarını yazdırma\n",
    "print(\"Kruskal-Wallis Test Sonuçları:\")\n",
    "display(styled_results)  # Test sonuçlarını estetik bir şekilde gösterme\n"
   ]
  },
  {
   "cell_type": "code",
   "execution_count": 52,
   "id": "bcfce632-901d-4ca7-afe7-4ed960cdd15c",
   "metadata": {
    "tags": []
   },
   "outputs": [
    {
     "name": "stdout",
     "output_type": "stream",
     "text": [
      "Kruskal-Wallis Test Sonuçları:\n"
     ]
    },
    {
     "data": {
      "text/html": [
       "<style type=\"text/css\">\n",
       "#T_e824e thead th {\n",
       "  background-color: lightblue;\n",
       "  font-weight: bold;\n",
       "}\n",
       "#T_e824e tbody td {\n",
       "  background-color: lightgray;\n",
       "  text-align: center;\n",
       "}\n",
       "</style>\n",
       "<table id=\"T_e824e\">\n",
       "  <thead>\n",
       "    <tr>\n",
       "      <th id=\"T_e824e_level0_col0\" class=\"col_heading level0 col0\" >Test İstatistiği</th>\n",
       "      <th id=\"T_e824e_level0_col1\" class=\"col_heading level0 col1\" >p-değeri</th>\n",
       "      <th id=\"T_e824e_level0_col2\" class=\"col_heading level0 col2\" >Anlamlılık Durumu</th>\n",
       "      <th id=\"T_e824e_level0_col3\" class=\"col_heading level0 col3\" >H0 Kararı</th>\n",
       "    </tr>\n",
       "  </thead>\n",
       "  <tbody>\n",
       "    <tr>\n",
       "      <td id=\"T_e824e_row0_col0\" class=\"data row0 col0\" >223999.311527</td>\n",
       "      <td id=\"T_e824e_row0_col1\" class=\"data row0 col1\" >0.000000</td>\n",
       "      <td id=\"T_e824e_row0_col2\" class=\"data row0 col2\" >model değişkeninin  satış fiyatları ile anlamlı bir ilişki vardır.</td>\n",
       "      <td id=\"T_e824e_row0_col3\" class=\"data row0 col3\" >H0 reddedilir</td>\n",
       "    </tr>\n",
       "  </tbody>\n",
       "</table>\n"
      ],
      "text/plain": [
       "<pandas.io.formats.style.Styler at 0x27db532b590>"
      ]
     },
     "metadata": {},
     "output_type": "display_data"
    }
   ],
   "source": [
    "import pandas as pd\n",
    "from scipy.stats import kruskal\n",
    "\n",
    "# \"color\" değişkenindeki her grup için \"sellingprice\" değerlerini ayıralım\n",
    "color_values = df['model']\n",
    "sellingprice_values = df['sellingprice']\n",
    "\n",
    "# \"color\" değişkenindeki her bir benzersiz renk için satış fiyatlarını grupluyoruz\n",
    "groups = [sellingprice_values[color_values == color] for color in color_values.unique()]\n",
    "\n",
    "# Kruskal-Wallis H testi (çoklu gruplar arasındaki ilişkiyi test etmek için)\n",
    "kruskal_result = kruskal(*groups)\n",
    "\n",
    "# Sonuçları DataFrame olarak hazırlama\n",
    "h0_decision = 'H0 reddedilir' if kruskal_result.pvalue < 0.05 else 'H0 kabul edilir'\n",
    "\n",
    "results = pd.DataFrame({\n",
    "    'Test İstatistiği': [kruskal_result.statistic],\n",
    "    'p-değeri': [kruskal_result.pvalue],\n",
    "    'Anlamlılık Durumu': ['model değişkeninin  satış fiyatları ile anlamlı bir ilişki vardır.' if kruskal_result.pvalue < 0.05 else 'model değişkeninin  satış fiyatları ile anlamlı bir ilişki yoktur.'],\n",
    "    'H0 Kararı': [h0_decision]\n",
    "})\n",
    "\n",
    "# Sonuçları güzel bir şekilde tablolaştırma\n",
    "styled_results = results.style.set_table_styles([\n",
    "    {'selector': 'thead th', 'props': [('background-color', 'lightblue'), ('font-weight', 'bold')]},\n",
    "    {'selector': 'tbody td', 'props': [('background-color', 'lightgray'), ('text-align', 'center')]},\n",
    "]).hide(axis=\"index\")\n",
    "\n",
    "# Test sonuçlarını yazdırma\n",
    "print(\"Kruskal-Wallis Test Sonuçları:\")\n",
    "display(styled_results)  # Test sonuçlarını estetik bir şekilde gösterme\n"
   ]
  },
  {
   "cell_type": "code",
   "execution_count": 55,
   "id": "e4b60040-ed82-45ed-ae39-8e0b89ee542a",
   "metadata": {
    "tags": []
   },
   "outputs": [
    {
     "name": "stdout",
     "output_type": "stream",
     "text": [
      "Kruskal-Wallis Test Sonuçları:\n"
     ]
    },
    {
     "data": {
      "text/html": [
       "<style type=\"text/css\">\n",
       "#T_3b2be thead th {\n",
       "  background-color: lightblue;\n",
       "  font-weight: bold;\n",
       "}\n",
       "#T_3b2be tbody td {\n",
       "  background-color: lightgray;\n",
       "  text-align: center;\n",
       "}\n",
       "</style>\n",
       "<table id=\"T_3b2be\">\n",
       "  <thead>\n",
       "    <tr>\n",
       "      <th id=\"T_3b2be_level0_col0\" class=\"col_heading level0 col0\" >Test İstatistiği</th>\n",
       "      <th id=\"T_3b2be_level0_col1\" class=\"col_heading level0 col1\" >p-değeri</th>\n",
       "      <th id=\"T_3b2be_level0_col2\" class=\"col_heading level0 col2\" >Anlamlılık Durumu</th>\n",
       "      <th id=\"T_3b2be_level0_col3\" class=\"col_heading level0 col3\" >H0 Kararı</th>\n",
       "    </tr>\n",
       "  </thead>\n",
       "  <tbody>\n",
       "    <tr>\n",
       "      <td id=\"T_3b2be_row0_col0\" class=\"data row0 col0\" >81806.368756</td>\n",
       "      <td id=\"T_3b2be_row0_col1\" class=\"data row0 col1\" >0.000000</td>\n",
       "      <td id=\"T_3b2be_row0_col2\" class=\"data row0 col2\" >make,marka değişkeninin satış fiyatları ile anlamlı bir ilişki vardır.</td>\n",
       "      <td id=\"T_3b2be_row0_col3\" class=\"data row0 col3\" >H0 reddedilir</td>\n",
       "    </tr>\n",
       "  </tbody>\n",
       "</table>\n"
      ],
      "text/plain": [
       "<pandas.io.formats.style.Styler at 0x27dc3450c10>"
      ]
     },
     "metadata": {},
     "output_type": "display_data"
    }
   ],
   "source": [
    "import pandas as pd\n",
    "from scipy.stats import kruskal\n",
    "\n",
    "# \"color\" değişkenindeki her grup için \"sellingprice\" değerlerini ayıralım\n",
    "color_values = df['make']\n",
    "sellingprice_values = df['sellingprice']\n",
    "\n",
    "# \"color\" değişkenindeki her bir benzersiz renk için satış fiyatlarını grupluyoruz\n",
    "groups = [sellingprice_values[color_values == color] for color in color_values.unique()]\n",
    "\n",
    "# Kruskal-Wallis H testi (çoklu gruplar arasındaki ilişkiyi test etmek için)\n",
    "kruskal_result = kruskal(*groups)\n",
    "\n",
    "# Sonuçları DataFrame olarak hazırlama\n",
    "h0_decision = 'H0 reddedilir' if kruskal_result.pvalue < 0.05 else 'H0 kabul edilir'\n",
    "\n",
    "results = pd.DataFrame({\n",
    "    'Test İstatistiği': [kruskal_result.statistic],\n",
    "    'p-değeri': [kruskal_result.pvalue],\n",
    "    'Anlamlılık Durumu': ['make,marka değişkeninin satış fiyatları ile anlamlı bir ilişki vardır.' if kruskal_result.pvalue < 0.05 else 'make,marka değişkeninin satış fiyatları ile anlamlı bir ilişki yoktur.'],\n",
    "    'H0 Kararı': [h0_decision]\n",
    "})\n",
    "\n",
    "# Sonuçları güzel bir şekilde tablolaştırma\n",
    "styled_results = results.style.set_table_styles([\n",
    "    {'selector': 'thead th', 'props': [('background-color', 'lightblue'), ('font-weight', 'bold')]},\n",
    "    {'selector': 'tbody td', 'props': [('background-color', 'lightgray'), ('text-align', 'center')]},\n",
    "]).hide(axis=\"index\")\n",
    "\n",
    "# Test sonuçlarını yazdırma\n",
    "print(\"Kruskal-Wallis Test Sonuçları:\")\n",
    "display(styled_results)  # Test sonuçlarını estetik bir şekilde gösterme"
   ]
  },
  {
   "cell_type": "code",
   "execution_count": 59,
   "id": "6abb4790-4ee8-43db-8f72-7e269b0dabb0",
   "metadata": {
    "tags": []
   },
   "outputs": [
    {
     "name": "stdout",
     "output_type": "stream",
     "text": [
      "Kruskal-Wallis Test Sonuçları:\n"
     ]
    },
    {
     "data": {
      "text/html": [
       "<style type=\"text/css\">\n",
       "#T_015b2 thead th {\n",
       "  background-color: lightblue;\n",
       "  font-weight: bold;\n",
       "}\n",
       "#T_015b2 tbody td {\n",
       "  background-color: lightgray;\n",
       "  text-align: center;\n",
       "}\n",
       "</style>\n",
       "<table id=\"T_015b2\">\n",
       "  <thead>\n",
       "    <tr>\n",
       "      <th id=\"T_015b2_level0_col0\" class=\"col_heading level0 col0\" >Test İstatistiği</th>\n",
       "      <th id=\"T_015b2_level0_col1\" class=\"col_heading level0 col1\" >p-değeri</th>\n",
       "      <th id=\"T_015b2_level0_col2\" class=\"col_heading level0 col2\" >Anlamlılık Durumu</th>\n",
       "      <th id=\"T_015b2_level0_col3\" class=\"col_heading level0 col3\" >H0 Kararı</th>\n",
       "    </tr>\n",
       "  </thead>\n",
       "  <tbody>\n",
       "    <tr>\n",
       "      <td id=\"T_015b2_row0_col0\" class=\"data row0 col0\" >196430.310227</td>\n",
       "      <td id=\"T_015b2_row0_col1\" class=\"data row0 col1\" >0.000000</td>\n",
       "      <td id=\"T_015b2_row0_col2\" class=\"data row0 col2\" >trim değişkeninin satış fiyatları ile anlamlı bir ilişki vardır.</td>\n",
       "      <td id=\"T_015b2_row0_col3\" class=\"data row0 col3\" >H0 reddedilir</td>\n",
       "    </tr>\n",
       "  </tbody>\n",
       "</table>\n"
      ],
      "text/plain": [
       "<pandas.io.formats.style.Styler at 0x27dafa04e10>"
      ]
     },
     "metadata": {},
     "output_type": "display_data"
    }
   ],
   "source": [
    "import pandas as pd\n",
    "from scipy.stats import kruskal\n",
    "\n",
    "# \"color\" değişkenindeki her grup için \"sellingprice\" değerlerini ayıralım\n",
    "color_values = df['trim']\n",
    "sellingprice_values = df['sellingprice']\n",
    "\n",
    "# \"color\" değişkenindeki her bir benzersiz renk için satış fiyatlarını grupluyoruz\n",
    "groups = [sellingprice_values[color_values == color] for color in color_values.unique()]\n",
    "\n",
    "# Kruskal-Wallis H testi (çoklu gruplar arasındaki ilişkiyi test etmek için)\n",
    "kruskal_result = kruskal(*groups)\n",
    "\n",
    "# Sonuçları DataFrame olarak hazırlama\n",
    "h0_decision = 'H0 reddedilir' if kruskal_result.pvalue < 0.05 else 'H0 kabul edilir'\n",
    "\n",
    "results = pd.DataFrame({\n",
    "    'Test İstatistiği': [kruskal_result.statistic],\n",
    "    'p-değeri': [kruskal_result.pvalue],\n",
    "    'Anlamlılık Durumu': ['trim değişkeninin satış fiyatları ile anlamlı bir ilişki vardır.' if kruskal_result.pvalue < 0.05 else 'trim değişkeninin satış fiyatları ile anlamlı bir ilişki yoktur.'],\n",
    "    'H0 Kararı': [h0_decision]\n",
    "})\n",
    "\n",
    "# Sonuçları güzel bir şekilde tablolaştırma\n",
    "styled_results = results.style.set_table_styles([\n",
    "    {'selector': 'thead th', 'props': [('background-color', 'lightblue'), ('font-weight', 'bold')]},\n",
    "    {'selector': 'tbody td', 'props': [('background-color', 'lightgray'), ('text-align', 'center')]},\n",
    "]).hide(axis=\"index\")\n",
    "\n",
    "# Test sonuçlarını yazdırma\n",
    "print(\"Kruskal-Wallis Test Sonuçları:\")\n",
    "display(styled_results)  # Test sonuçlarını estetik bir şekilde gösterme"
   ]
  },
  {
   "cell_type": "code",
   "execution_count": 62,
   "id": "e17ac620-f6ef-4256-b2b4-3b5d8f036f6b",
   "metadata": {
    "tags": []
   },
   "outputs": [
    {
     "name": "stdout",
     "output_type": "stream",
     "text": [
      "Kruskal-Wallis Test Sonuçları:\n"
     ]
    },
    {
     "data": {
      "text/html": [
       "<style type=\"text/css\">\n",
       "#T_40cfd thead th {\n",
       "  background-color: lightblue;\n",
       "  font-weight: bold;\n",
       "}\n",
       "#T_40cfd tbody td {\n",
       "  background-color: lightgray;\n",
       "  text-align: center;\n",
       "}\n",
       "</style>\n",
       "<table id=\"T_40cfd\">\n",
       "  <thead>\n",
       "    <tr>\n",
       "      <th id=\"T_40cfd_level0_col0\" class=\"col_heading level0 col0\" >Test İstatistiği</th>\n",
       "      <th id=\"T_40cfd_level0_col1\" class=\"col_heading level0 col1\" >p-değeri</th>\n",
       "      <th id=\"T_40cfd_level0_col2\" class=\"col_heading level0 col2\" >Anlamlılık Durumu</th>\n",
       "      <th id=\"T_40cfd_level0_col3\" class=\"col_heading level0 col3\" >H0 Kararı</th>\n",
       "    </tr>\n",
       "  </thead>\n",
       "  <tbody>\n",
       "    <tr>\n",
       "      <td id=\"T_40cfd_row0_col0\" class=\"data row0 col0\" >2141.679038</td>\n",
       "      <td id=\"T_40cfd_row0_col1\" class=\"data row0 col1\" >0.000000</td>\n",
       "      <td id=\"T_40cfd_row0_col2\" class=\"data row0 col2\" >transmission değişkeninin satış fiyatları ile anlamlı bir ilişki vardır.</td>\n",
       "      <td id=\"T_40cfd_row0_col3\" class=\"data row0 col3\" >H0 reddedilir</td>\n",
       "    </tr>\n",
       "  </tbody>\n",
       "</table>\n"
      ],
      "text/plain": [
       "<pandas.io.formats.style.Styler at 0x27daa17cf90>"
      ]
     },
     "metadata": {},
     "output_type": "display_data"
    }
   ],
   "source": [
    "import pandas as pd\n",
    "from scipy.stats import kruskal\n",
    "\n",
    "# \"color\" değişkenindeki her grup için \"sellingprice\" değerlerini ayıralım\n",
    "color_values = df['transmission']\n",
    "sellingprice_values = df['sellingprice']\n",
    "\n",
    "# \"color\" değişkenindeki her bir benzersiz renk için satış fiyatlarını grupluyoruz\n",
    "groups = [sellingprice_values[color_values == color] for color in color_values.unique()]\n",
    "\n",
    "# Kruskal-Wallis H testi (çoklu gruplar arasındaki ilişkiyi test etmek için)\n",
    "kruskal_result = kruskal(*groups)\n",
    "\n",
    "# Sonuçları DataFrame olarak hazırlama\n",
    "h0_decision = 'H0 reddedilir' if kruskal_result.pvalue < 0.05 else 'H0 kabul edilir'\n",
    "\n",
    "results = pd.DataFrame({\n",
    "    'Test İstatistiği': [kruskal_result.statistic],\n",
    "    'p-değeri': [kruskal_result.pvalue],\n",
    "    'Anlamlılık Durumu': ['transmission değişkeninin satış fiyatları ile anlamlı bir ilişki vardır.' if kruskal_result.pvalue < 0.05 else 'transmission değişkeninin satış fiyatları ile anlamlı bir ilişki yoktur.'],\n",
    "    'H0 Kararı': [h0_decision]\n",
    "})\n",
    "\n",
    "# Sonuçları güzel bir şekilde tablolaştırma\n",
    "styled_results = results.style.set_table_styles([\n",
    "    {'selector': 'thead th', 'props': [('background-color', 'lightblue'), ('font-weight', 'bold')]},\n",
    "    {'selector': 'tbody td', 'props': [('background-color', 'lightgray'), ('text-align', 'center')]},\n",
    "]).hide(axis=\"index\")\n",
    "\n",
    "# Test sonuçlarını yazdırma\n",
    "print(\"Kruskal-Wallis Test Sonuçları:\")\n",
    "display(styled_results)  # Test sonuçlarını estetik bir şekilde gösterme"
   ]
  },
  {
   "cell_type": "code",
   "execution_count": null,
   "id": "6f32f43f-db6e-4396-b8c5-65f126182bce",
   "metadata": {},
   "outputs": [],
   "source": []
  }
 ],
 "metadata": {
  "kernelspec": {
   "display_name": "Python 3 (ipykernel)",
   "language": "python",
   "name": "python3"
  },
  "language_info": {
   "codemirror_mode": {
    "name": "ipython",
    "version": 3
   },
   "file_extension": ".py",
   "mimetype": "text/x-python",
   "name": "python",
   "nbconvert_exporter": "python",
   "pygments_lexer": "ipython3",
   "version": "3.11.7"
  }
 },
 "nbformat": 4,
 "nbformat_minor": 5
}
